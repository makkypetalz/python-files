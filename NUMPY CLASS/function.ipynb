{
 "cells": [
  {
   "cell_type": "code",
   "execution_count": 1,
   "id": "bd313862",
   "metadata": {},
   "outputs": [],
   "source": [
    "import numpy as np"
   ]
  },
  {
   "cell_type": "markdown",
   "id": "0709b6b9",
   "metadata": {},
   "source": [
    "# Numpy functions"
   ]
  },
  {
   "cell_type": "markdown",
   "id": "6b64fdc5",
   "metadata": {},
   "source": [
    "arange syntax of np.arange()"
   ]
  },
  {
   "cell_type": "markdown",
   "id": "a0b67573",
   "metadata": {},
   "source": [
    "# np.arange(start,stop,step, dtype)\n",
    "note: the syntax above, the first three parameters are used to determine the range of the value while the 4th parameter is used to specify the type of the element"
   ]
  },
  {
   "cell_type": "code",
   "execution_count": 2,
   "id": "c9594d93",
   "metadata": {},
   "outputs": [
    {
     "name": "stdout",
     "output_type": "stream",
     "text": [
      "[ 5  8 11 14]\n"
     ]
    }
   ],
   "source": [
    "ten = np.arange(start = 5,stop = 15, step = 3)\n",
    "print(ten)"
   ]
  },
  {
   "cell_type": "code",
   "execution_count": 3,
   "id": "57a6baca",
   "metadata": {},
   "outputs": [
    {
     "name": "stdout",
     "output_type": "stream",
     "text": [
      "[ 5  8 11 14]\n"
     ]
    }
   ],
   "source": [
    "mm = np.arange(5,15,3)\n",
    "print(mm)"
   ]
  },
  {
   "cell_type": "code",
   "execution_count": 4,
   "id": "2cde7550",
   "metadata": {},
   "outputs": [
    {
     "name": "stdout",
     "output_type": "stream",
     "text": [
      "[10 11 12 13 14 15 16 17 18 19 20 21 22 23 24 25 26 27 28 29]\n"
     ]
    }
   ],
   "source": [
    "fen = np.arange(start = 10,stop = 30)\n",
    "print(fen)"
   ]
  },
  {
   "cell_type": "code",
   "execution_count": 5,
   "id": "49ca0bd5",
   "metadata": {},
   "outputs": [
    {
     "name": "stdout",
     "output_type": "stream",
     "text": [
      "[10 11 12 13 14 15 16 17 18 19 20 21 22 23 24 25 26 27 28 29]\n"
     ]
    }
   ],
   "source": [
    "gg = np.arange(10,30)\n",
    "print(gg)"
   ]
  },
  {
   "cell_type": "code",
   "execution_count": 6,
   "id": "b96a3e23",
   "metadata": {},
   "outputs": [],
   "source": [
    "# nr = np.arange(start = 10)\n",
    "# nr"
   ]
  },
  {
   "cell_type": "markdown",
   "id": "18288c77",
   "metadata": {},
   "source": [
    "# reshape()function"
   ]
  },
  {
   "cell_type": "markdown",
   "id": "5699de51",
   "metadata": {},
   "source": [
    "the word reshape simply indicates changing the shape\n",
    "syntax of reshape is np.reshape(array,newshape,order = \"c\")\n"
   ]
  },
  {
   "cell_type": "markdown",
   "id": "b954e38f",
   "metadata": {},
   "source": [
    "# syntax of reshape: np.reshape(array,newshape,order = \"c\")"
   ]
  },
  {
   "cell_type": "markdown",
   "id": "92717019",
   "metadata": {},
   "source": [
    "array:This is the array to be reshaped"
   ]
  },
  {
   "cell_type": "markdown",
   "id": "3699f33b",
   "metadata": {},
   "source": [
    "newshape:The newshape parameter should provide a shape which is compactible with the original shape\n",
    "    if the value of this parameter is an integer value, then the result will be one dim array"
   ]
  },
  {
   "cell_type": "markdown",
   "id": "2da46eab",
   "metadata": {},
   "source": [
    "order:This is very important bcos it is used to read the element of the source array and then place the element into the reshaped array"
   ]
  },
  {
   "cell_type": "markdown",
   "id": "a38695f2",
   "metadata": {},
   "source": [
    "The index order \"C\" means to read/write the element which C-like index order(and where the last axis index is changing fast back to the first index changing slowly)"
   ]
  },
  {
   "cell_type": "markdown",
   "id": "4f046c61",
   "metadata": {},
   "source": [
    "The index order \"F\" means to read/write the element which are using the fortran-like index order(and where the last axis index is changing slow, the firstaxis index is changing fast)opp of C"
   ]
  },
  {
   "cell_type": "markdown",
   "id": "0091e4c8",
   "metadata": {},
   "source": [
    "A order simply means to read/write the element in a fortran-like index order only when the array to be shaped is contagious in memory otherwise use a C-like index order"
   ]
  },
  {
   "cell_type": "code",
   "execution_count": 7,
   "id": "481f5e1d",
   "metadata": {},
   "outputs": [
    {
     "name": "stdout",
     "output_type": "stream",
     "text": [
      "[ 0  1  2  3  4  5  6  7  8  9 10 11 12 13 14 15 16 17 18 19 20 21 22 23\n",
      " 24 25 26 27 28 29 30 31 32 33 34 35 36 37 38 39]\n"
     ]
    }
   ],
   "source": [
    "tell = np.arange(40)\n",
    "print(tell)"
   ]
  },
  {
   "cell_type": "code",
   "execution_count": 8,
   "id": "d6ead1fe",
   "metadata": {},
   "outputs": [
    {
     "name": "stdout",
     "output_type": "stream",
     "text": [
      "[[ 0  1  2  3  4]\n",
      " [ 5  6  7  8  9]\n",
      " [10 11 12 13 14]\n",
      " [15 16 17 18 19]]\n"
     ]
    }
   ],
   "source": [
    "fed =np.arange(20).reshape(4,5)\n",
    "print(fed)"
   ]
  },
  {
   "cell_type": "code",
   "execution_count": 9,
   "id": "88557194",
   "metadata": {},
   "outputs": [],
   "source": [
    "# nn = tell.reshape(4,5)\n",
    "# print(nn)"
   ]
  },
  {
   "cell_type": "code",
   "execution_count": 10,
   "id": "ed7d600a",
   "metadata": {},
   "outputs": [
    {
     "data": {
      "text/plain": [
       "array([[[ 0,  1,  2,  3],\n",
       "        [ 4,  5,  6,  7],\n",
       "        [ 8,  9, 10, 11],\n",
       "        [12, 13, 14, 15],\n",
       "        [16, 17, 18, 19]],\n",
       "\n",
       "       [[20, 21, 22, 23],\n",
       "        [24, 25, 26, 27],\n",
       "        [28, 29, 30, 31],\n",
       "        [32, 33, 34, 35],\n",
       "        [36, 37, 38, 39]]])"
      ]
     },
     "execution_count": 10,
     "metadata": {},
     "output_type": "execute_result"
    }
   ],
   "source": [
    "nn = tell.reshape(2,5,4)\n",
    "nn"
   ]
  },
  {
   "cell_type": "code",
   "execution_count": 11,
   "id": "2bb3bd94",
   "metadata": {},
   "outputs": [
    {
     "name": "stdout",
     "output_type": "stream",
     "text": [
      "[ 0  1  2  3  4  5  6  7  8  9 10 11 12 13 14 15 16 17 18 19]\n"
     ]
    }
   ],
   "source": [
    "cell = np.arange(20)\n",
    "print(cell)"
   ]
  },
  {
   "cell_type": "code",
   "execution_count": 12,
   "id": "b2b28470",
   "metadata": {},
   "outputs": [
    {
     "data": {
      "text/plain": [
       "array([[[ 0,  1,  2,  3],\n",
       "        [ 4,  5,  6,  7],\n",
       "        [ 8,  9, 10, 11],\n",
       "        [12, 13, 14, 15],\n",
       "        [16, 17, 18, 19]]])"
      ]
     },
     "execution_count": 12,
     "metadata": {},
     "output_type": "execute_result"
    }
   ],
   "source": [
    "zz = cell.reshape(1,5,4)\n",
    "zz"
   ]
  },
  {
   "cell_type": "code",
   "execution_count": 13,
   "id": "662ecfc8",
   "metadata": {},
   "outputs": [
    {
     "name": "stdout",
     "output_type": "stream",
     "text": [
      "[[ 0  4  8 12 16]\n",
      " [ 1  5  9 13 17]\n",
      " [ 2  6 10 14 18]\n",
      " [ 3  7 11 15 19]]\n"
     ]
    }
   ],
   "source": [
    "cell = np.arange(20)\n",
    "cell2 = np.reshape(cell,(4,5),order = \"F\")\n",
    "print(cell2)"
   ]
  },
  {
   "cell_type": "code",
   "execution_count": 14,
   "id": "5be4ac3d",
   "metadata": {},
   "outputs": [
    {
     "name": "stdout",
     "output_type": "stream",
     "text": [
      "[[ 0  1  2  3  4]\n",
      " [ 5  6  7  8  9]\n",
      " [10 11 12 13 14]\n",
      " [15 16 17 18 19]]\n"
     ]
    }
   ],
   "source": [
    "ven = np.arange(20)\n",
    "ven2 = np.reshape(ven,(4,5),order = \"C\")\n",
    "print(ven2)"
   ]
  },
  {
   "cell_type": "markdown",
   "id": "da2c7875",
   "metadata": {},
   "source": [
    "# Append()"
   ]
  },
  {
   "cell_type": "markdown",
   "id": "dbbbd35b",
   "metadata": {},
   "source": [
    "syntax = np.append(array,values,axis = None)\n",
    "parameters:\n",
    "    \n",
    "array:This represents the ndarray to which the new values will be appended and new array will be created\n",
    "values:This is purposely used to define the values that are needed to append a copy of a (the existing ndarray), note: the values must be of the correct shape(the original ndarray)\n",
    "axis: This is optional, it is used to define the axis along which the values are appended. when the axis is not given then both ndarray and values are flattened before use        "
   ]
  },
  {
   "cell_type": "code",
   "execution_count": 15,
   "id": "845a3eb3",
   "metadata": {},
   "outputs": [
    {
     "name": "stdout",
     "output_type": "stream",
     "text": [
      "[[2 5 6]\n",
      " [7 8 9]] \n",
      "\n",
      "[[3 4 5]\n",
      " [1 2 6]]\n"
     ]
    }
   ],
   "source": [
    "red = np.array([[2,5,6],[7,8,9]])\n",
    "met = np.array([[3,4,5],[1,2,6]])\n",
    "print(red,\"\\n\")\n",
    "print(met)"
   ]
  },
  {
   "cell_type": "code",
   "execution_count": 16,
   "id": "1bfc72a1",
   "metadata": {},
   "outputs": [
    {
     "name": "stdout",
     "output_type": "stream",
     "text": [
      "[[2 5 6]\n",
      " [7 8 9]\n",
      " [3 4 5]\n",
      " [1 2 6]]\n"
     ]
    }
   ],
   "source": [
    "yy = np.append(red,met,axis = 0)\n",
    "print(yy)"
   ]
  },
  {
   "cell_type": "code",
   "execution_count": 17,
   "id": "bb1ae236",
   "metadata": {},
   "outputs": [
    {
     "name": "stdout",
     "output_type": "stream",
     "text": [
      "[[2 5 6 3 4 5]\n",
      " [7 8 9 1 2 6]]\n"
     ]
    }
   ],
   "source": [
    "yy = np.append(red,met,axis = 1)\n",
    "print(yy)"
   ]
  },
  {
   "cell_type": "markdown",
   "id": "889806c8",
   "metadata": {},
   "source": [
    "# Concatenate()"
   ]
  },
  {
   "cell_type": "markdown",
   "id": "f0996f9d",
   "metadata": {},
   "source": [
    "syntax = np.concatenate((array,array1,...), axis = 0, out = None)"
   ]
  },
  {
   "cell_type": "markdown",
   "id": "b7e751f1",
   "metadata": {},
   "source": [
    "parameters:\n",
    "(array,array1,...): This represents the sequence of array-like structure. these arrays should have thesame shape b4 they can be concatenated\n",
    "axis:This is used to define the axis along which the array should be concatenated. the default value is 0\n",
    "out: This is optional but it is provided when destination of the result placed, if there is no out parameter specified then the shape must be correct to match"
   ]
  },
  {
   "cell_type": "code",
   "execution_count": 18,
   "id": "5dc43dc8",
   "metadata": {},
   "outputs": [
    {
     "name": "stdout",
     "output_type": "stream",
     "text": [
      "[[4 6 8]\n",
      " [9 3 6]] \n",
      " \n",
      " [[8 4 3]\n",
      " [6 7 5]]\n"
     ]
    }
   ],
   "source": [
    "pp = np.array([[4,6,8],[9,3,6]])\n",
    "mm = np.array([[8,4,3],[6,7,5]])\n",
    "print(pp,\"\\n \\n\",mm)\n"
   ]
  },
  {
   "cell_type": "code",
   "execution_count": 19,
   "id": "ad9da3c8",
   "metadata": {},
   "outputs": [
    {
     "name": "stdout",
     "output_type": "stream",
     "text": [
      "[[4 6 8]\n",
      " [9 3 6]\n",
      " [8 4 3]\n",
      " [6 7 5]]\n"
     ]
    }
   ],
   "source": [
    "ss = np.concatenate((pp,mm), axis = 0, out = None)\n",
    "print(ss)"
   ]
  },
  {
   "cell_type": "code",
   "execution_count": 20,
   "id": "340f4449",
   "metadata": {},
   "outputs": [
    {
     "name": "stdout",
     "output_type": "stream",
     "text": [
      "[[4 6 8 8 4 3]\n",
      " [9 3 6 6 7 5]]\n"
     ]
    }
   ],
   "source": [
    "tt = np.concatenate((pp,mm), axis = 1, out = None)\n",
    "print(tt)"
   ]
  },
  {
   "cell_type": "markdown",
   "id": "7c714c80",
   "metadata": {},
   "source": [
    "# array() function"
   ]
  },
  {
   "cell_type": "markdown",
   "id": "bc4aeb95",
   "metadata": {},
   "source": [
    "In numpy large or multidimensional array is the main objective. this multidimensional array is basically a table of element and this element are all of thesame type and indexed by a tuple of positive integers.\n",
    "note: dimensions of an array are called axis in numpy. the array class in numpy library is mainly known as ndarray or array"
   ]
  },
  {
   "cell_type": "markdown",
   "id": "edeac544",
   "metadata": {},
   "source": [
    "syntax = np.array(object,copy = True, dtype = None, order = \"K\", subok = False, ndmin = 0)"
   ]
  },
  {
   "cell_type": "code",
   "execution_count": 21,
   "id": "912b364b",
   "metadata": {},
   "outputs": [
    {
     "data": {
      "text/plain": [
       "array([1, 2, 3, 4, 5])"
      ]
     },
     "execution_count": 21,
     "metadata": {},
     "output_type": "execute_result"
    }
   ],
   "source": [
    "yes = np.array([1,2,3,4,5])\n",
    "yes"
   ]
  },
  {
   "cell_type": "code",
   "execution_count": 22,
   "id": "9dcde39a",
   "metadata": {},
   "outputs": [],
   "source": [
    "met = np.array([[3,4,5],[1,2,6]])"
   ]
  },
  {
   "cell_type": "code",
   "execution_count": 23,
   "id": "ca4d032f",
   "metadata": {},
   "outputs": [
    {
     "data": {
      "text/plain": [
       "array([1.+0.j, 2.+0.j, 3.+0.j, 4.+0.j, 5.+0.j])"
      ]
     },
     "execution_count": 23,
     "metadata": {},
     "output_type": "execute_result"
    }
   ],
   "source": [
    "yes = np.array([1,2,3,4,5], dtype = \"complex\")\n",
    "yes"
   ]
  },
  {
   "cell_type": "markdown",
   "id": "090ccdc9",
   "metadata": {},
   "source": [
    "# Transpose() function"
   ]
  },
  {
   "cell_type": "markdown",
   "id": "0e520dd6",
   "metadata": {},
   "source": [
    "Transpose() is mainly used reverse or permute the axis of an array(the main function of this is to change the column element into row element and vice versa)\n",
    "note: transpose has no effect on 1-D array, it is used for 2-D or more arrays.\n",
    "\n",
    "syntax:np.transpose(array,axis = None)\n",
    "parameters:\n",
    "array:this is the array to be changed \n",
    "axis:this is an optional element but if value is passed then know it should pass(0,1)or(1,0). like we have array of shape(4,3) to change into (3,4), we should pass(1,0) where 1 represent 4 and 0 represent 3"
   ]
  },
  {
   "cell_type": "code",
   "execution_count": 24,
   "id": "35289328",
   "metadata": {},
   "outputs": [
    {
     "name": "stdout",
     "output_type": "stream",
     "text": [
      "[[ 5  7  8]\n",
      " [ 9 10 11]\n",
      " [12 13 14]]\n"
     ]
    }
   ],
   "source": [
    "hh = np.array([[5,7,8],[9,10,11],[12,13,14]])\n",
    "print(hh)"
   ]
  },
  {
   "cell_type": "code",
   "execution_count": 25,
   "id": "76e97c50",
   "metadata": {},
   "outputs": [
    {
     "name": "stdout",
     "output_type": "stream",
     "text": [
      "[[ 5  9 12]\n",
      " [ 7 10 13]\n",
      " [ 8 11 14]]\n"
     ]
    }
   ],
   "source": [
    "pp = np.transpose(hh)\n",
    "print(pp)"
   ]
  },
  {
   "cell_type": "code",
   "execution_count": 26,
   "id": "7ce99957",
   "metadata": {},
   "outputs": [
    {
     "name": "stdout",
     "output_type": "stream",
     "text": [
      "[[ 5  9 12]\n",
      " [ 7 10 13]\n",
      " [ 8 11 14]]\n"
     ]
    }
   ],
   "source": [
    "pp = np.transpose(hh,(1,0))\n",
    "print(pp)"
   ]
  },
  {
   "cell_type": "code",
   "execution_count": 27,
   "id": "87de8d37",
   "metadata": {},
   "outputs": [
    {
     "name": "stdout",
     "output_type": "stream",
     "text": [
      "[[ 5  7  8]\n",
      " [ 9 10 11]\n",
      " [12 13 14]]\n"
     ]
    }
   ],
   "source": [
    "pp = np.transpose(hh,(0,1))\n",
    "print(pp)"
   ]
  },
  {
   "cell_type": "markdown",
   "id": "0352f9fd",
   "metadata": {},
   "source": [
    "# partition() function"
   ]
  },
  {
   "cell_type": "markdown",
   "id": "461d6507",
   "metadata": {},
   "source": [
    "syntax = np.partition(array,kth,axis,kind,order)"
   ]
  },
  {
   "cell_type": "code",
   "execution_count": 28,
   "id": "f2ea6329",
   "metadata": {},
   "outputs": [
    {
     "name": "stdout",
     "output_type": "stream",
     "text": [
      "[ 4  2  1  0  6 13 70 90]\n"
     ]
    }
   ],
   "source": [
    "gas = np.array([2,0,1,6,4,13,70,90,])\n",
    "why = np.partition(gas,4)\n",
    "print(why)"
   ]
  },
  {
   "cell_type": "code",
   "execution_count": 29,
   "id": "0d23594f",
   "metadata": {},
   "outputs": [
    {
     "name": "stdout",
     "output_type": "stream",
     "text": [
      "[  3   4   5   6  50  60 100 200]\n"
     ]
    }
   ],
   "source": [
    "find = np.array([4,5,6,3,60,50,100,200])\n",
    "you = np.partition(find,(3,4))\n",
    "print(you)"
   ]
  },
  {
   "cell_type": "markdown",
   "id": "41dbc188",
   "metadata": {},
   "source": [
    "# Numpy mathematical functions"
   ]
  },
  {
   "cell_type": "markdown",
   "id": "9f96b705",
   "metadata": {},
   "source": [
    "# CEIL() function"
   ]
  },
  {
   "cell_type": "markdown",
   "id": "46409770",
   "metadata": {},
   "source": [
    "Ceil() function is used to return the ceil of the elements of an array. the ceil value of x is the smallest int i in a way such that i>=x. eg 7.8, the ceil value will be 8 ie the nearest largest integer value is the ceil value"
   ]
  },
  {
   "cell_type": "markdown",
   "id": "e36f9370",
   "metadata": {},
   "source": [
    "syntax = np.ceil(array)"
   ]
  },
  {
   "cell_type": "code",
   "execution_count": 30,
   "id": "45e7349c",
   "metadata": {},
   "outputs": [
    {
     "name": "stdout",
     "output_type": "stream",
     "text": [
      "[ 6.  4.  3.  5.  7.  8. 10. 11.]\n"
     ]
    }
   ],
   "source": [
    "price = np.array([5.9,3.4,2.2,4.8,6.3,7.6,9.1,11.0])\n",
    "new_price = np.ceil(price)\n",
    "print(new_price)"
   ]
  },
  {
   "cell_type": "code",
   "execution_count": 31,
   "id": "f5000a57",
   "metadata": {},
   "outputs": [
    {
     "name": "stdout",
     "output_type": "stream",
     "text": [
      "[-2. -4. -5. -7.]\n"
     ]
    }
   ],
   "source": [
    "new_values = np.array([-2.2,-4.4,-5.5,-7.7])\n",
    "second_price = np.ceil(new_values)\n",
    "print(second_price)"
   ]
  },
  {
   "cell_type": "markdown",
   "id": "1018afca",
   "metadata": {},
   "source": [
    "# Floor() function"
   ]
  },
  {
   "cell_type": "markdown",
   "id": "901ba6c6",
   "metadata": {},
   "source": [
    "floor() function is used to return the floor of the elements of an array. the floor value of x is the smallest int i in a way such that i<=x. eg 7.8, the floor value will be 7 ie the nearest lowest integer value is the floor value"
   ]
  },
  {
   "cell_type": "markdown",
   "id": "3e84790e",
   "metadata": {},
   "source": [
    "syntax = np.floor(array)"
   ]
  },
  {
   "cell_type": "code",
   "execution_count": 32,
   "id": "640acb3b",
   "metadata": {},
   "outputs": [
    {
     "name": "stdout",
     "output_type": "stream",
     "text": [
      "[59. 40. 99. 87. 93.]\n"
     ]
    }
   ],
   "source": [
    "score = np.array([59.2,40.0,99.9,87.5,93.2])\n",
    "llist = np.floor(score)\n",
    "print(llist)"
   ]
  },
  {
   "cell_type": "code",
   "execution_count": 33,
   "id": "1cea3440",
   "metadata": {},
   "outputs": [
    {
     "name": "stdout",
     "output_type": "stream",
     "text": [
      "[ 1. -4.  4. -7. -6.]\n"
     ]
    }
   ],
   "source": [
    "one = np.array([1.2,-3.5,4.5,-6.7,-5.9])\n",
    "two = np.floor(one)\n",
    "print(two)"
   ]
  },
  {
   "cell_type": "markdown",
   "id": "f091b552",
   "metadata": {},
   "source": [
    "# Truncate() function"
   ]
  },
  {
   "cell_type": "markdown",
   "id": "40055c53",
   "metadata": {},
   "source": [
    "Truncate() function is used to return the truncated value of the array. note: the truncated value x of the array y should be the nearest integer which is closer to zero rather than the y"
   ]
  },
  {
   "cell_type": "markdown",
   "id": "3e70fac7",
   "metadata": {},
   "source": [
    "syntax = np.trunc(array)"
   ]
  },
  {
   "cell_type": "code",
   "execution_count": 34,
   "id": "1400f60b",
   "metadata": {},
   "outputs": [
    {
     "name": "stdout",
     "output_type": "stream",
     "text": [
      "[ 1. -1.  2. -2.  3. -3.]\n"
     ]
    }
   ],
   "source": [
    "key = np.array([1.2,-1.3,2.1,-2.2,3.1,-3.4])\n",
    "main = np.trunc(key)\n",
    "print(main)"
   ]
  },
  {
   "cell_type": "markdown",
   "id": "82a56e73",
   "metadata": {},
   "source": [
    "# Fix() function"
   ]
  },
  {
   "cell_type": "markdown",
   "id": "bc65560d",
   "metadata": {},
   "source": [
    "Fix() function is used to round the array values to the nearest integers towards zero"
   ]
  },
  {
   "cell_type": "markdown",
   "id": "666514fb",
   "metadata": {},
   "source": [
    "syntax = np.fix(array,b = None)\n",
    "\n",
    "parameters:\n",
    "array: represents the array whose elements are to be worked on\n",
    "b: it is used to provide an ndarray which represents the location into which the result will be stored\n",
    " note: the b is optional"
   ]
  },
  {
   "cell_type": "code",
   "execution_count": 35,
   "id": "eaa154a2",
   "metadata": {},
   "outputs": [
    {
     "name": "stdout",
     "output_type": "stream",
     "text": [
      "[0. 0. 1. 4. 8. 9.]\n"
     ]
    }
   ],
   "source": [
    "red = [0.89,0.45,1.67,4.78,8.19,9.09]\n",
    "good = np.fix(red)\n",
    "print(good)"
   ]
  },
  {
   "cell_type": "markdown",
   "id": "6c23cc44",
   "metadata": {},
   "source": [
    "# Statistical functions"
   ]
  },
  {
   "cell_type": "markdown",
   "id": "36bbc12b",
   "metadata": {},
   "source": [
    "# amin() function"
   ]
  },
  {
   "cell_type": "markdown",
   "id": "6a9e1ac5",
   "metadata": {},
   "source": [
    "amin() function: is used to return the minimum element of an array or minimum element along an axis "
   ]
  },
  {
   "cell_type": "markdown",
   "id": "443c0b93",
   "metadata": {},
   "source": [
    "syntax = np.amin(array,axis,out,keepdims = , initial = , where = )\n",
    "\n",
    "parameters:\n",
    "array: the array indicates the input data\n",
    "axis: this represents the axis along which we operate(optional)\n",
    "out: this is used to indicate an alternative output array in which result get stored.\n",
    "keepdims:this is used to broadcast the result correctly against the input array, if it is set to true, the axis which are reduced are left in the result as dimension with size one(it is optional with a boolean value)\n",
    "initial:this is the scalar and is used to indicate max value of an output element\n",
    "where:it is an optional value used to indicate the element to compare for the minimum value"
   ]
  },
  {
   "cell_type": "code",
   "execution_count": 36,
   "id": "fe71d9fe",
   "metadata": {},
   "outputs": [
    {
     "name": "stdout",
     "output_type": "stream",
     "text": [
      "[[ 5 10 15]\n",
      " [20 25 30]\n",
      " [ 2  4  3]]\n"
     ]
    }
   ],
   "source": [
    "you = np.array([[5,10,15],[20,25,30],[2,4,3]])\n",
    "print(you)"
   ]
  },
  {
   "cell_type": "code",
   "execution_count": 37,
   "id": "ecc36b48",
   "metadata": {},
   "outputs": [
    {
     "name": "stdout",
     "output_type": "stream",
     "text": [
      "2\n",
      "[2 4 3]\n",
      "[ 5 20  2]\n"
     ]
    }
   ],
   "source": [
    "print(np.amin(you))\n",
    "print(np.amin(you,0))\n",
    "print(np.amin(you,1))"
   ]
  },
  {
   "cell_type": "code",
   "execution_count": 38,
   "id": "efc655cf",
   "metadata": {},
   "outputs": [
    {
     "name": "stdout",
     "output_type": "stream",
     "text": [
      "2\n",
      "[2 4 3]\n",
      "[ 5 20  2]\n"
     ]
    }
   ],
   "source": [
    "print(np.amin(you))\n",
    "print(np.amin(you,axis = 0))\n",
    "print(np.amin(you,axis = 1))"
   ]
  },
  {
   "cell_type": "code",
   "execution_count": 39,
   "id": "9116d743",
   "metadata": {},
   "outputs": [],
   "source": [
    "# print(np.amin(you,where = [True,False], initial = 10, axis = 0))"
   ]
  },
  {
   "cell_type": "markdown",
   "id": "e12eb9d9",
   "metadata": {},
   "source": [
    "# amax() function"
   ]
  },
  {
   "cell_type": "markdown",
   "id": "f13927ac",
   "metadata": {},
   "source": [
    "syntax = np.amax(array,axis,out,keepdims =<no value> , initial =<no value>, where = )"
   ]
  },
  {
   "cell_type": "code",
   "execution_count": 40,
   "id": "4564b23d",
   "metadata": {},
   "outputs": [
    {
     "name": "stdout",
     "output_type": "stream",
     "text": [
      "[[ 5 10 15]\n",
      " [20 25 30]\n",
      " [ 2  4  3]]\n"
     ]
    }
   ],
   "source": [
    "my = np.array([[5,10,15],[20,25,30],[2,4,3]])\n",
    "print(my)"
   ]
  },
  {
   "cell_type": "code",
   "execution_count": 41,
   "id": "174fb313",
   "metadata": {},
   "outputs": [
    {
     "name": "stdout",
     "output_type": "stream",
     "text": [
      "30\n",
      "[20 25 30]\n",
      "[15 30  4]\n"
     ]
    }
   ],
   "source": [
    "print(np.amax(my))\n",
    "print(np.amax(my,0))\n",
    "print(np.amax(my,1))"
   ]
  },
  {
   "cell_type": "code",
   "execution_count": 42,
   "id": "389d14a5",
   "metadata": {},
   "outputs": [
    {
     "name": "stdout",
     "output_type": "stream",
     "text": [
      "30\n",
      "[20 25 30]\n",
      "[15 30  4]\n"
     ]
    }
   ],
   "source": [
    "print(np.amax(my))\n",
    "print(np.amax(my,axis = 0))\n",
    "print(np.amax(my,axis = 1))"
   ]
  },
  {
   "cell_type": "markdown",
   "id": "65828adf",
   "metadata": {},
   "source": [
    "# ptp() function"
   ]
  },
  {
   "cell_type": "markdown",
   "id": "bc70c0a3",
   "metadata": {},
   "source": [
    "syntax = np.ptp(array,axis = None, out = None, keepdims =<no value>)\n",
    "ptp stands for peak to peak"
   ]
  },
  {
   "cell_type": "code",
   "execution_count": 43,
   "id": "ebc780ab",
   "metadata": {},
   "outputs": [
    {
     "name": "stdout",
     "output_type": "stream",
     "text": [
      "[ 1.  2.  5. nan]\n"
     ]
    }
   ],
   "source": [
    "pen = np.array([1,2,5,np.nan])\n",
    "print(pen)"
   ]
  },
  {
   "cell_type": "code",
   "execution_count": 44,
   "id": "7ef2132f",
   "metadata": {},
   "outputs": [
    {
     "name": "stdout",
     "output_type": "stream",
     "text": [
      "nan\n"
     ]
    }
   ],
   "source": [
    "print(np.ptp(pen))"
   ]
  },
  {
   "cell_type": "code",
   "execution_count": 45,
   "id": "71e02ad0",
   "metadata": {},
   "outputs": [
    {
     "name": "stdout",
     "output_type": "stream",
     "text": [
      "[[ 4  5  6]\n",
      " [ 6  7  8]\n",
      " [ 9 10 11]]\n",
      "7\n"
     ]
    }
   ],
   "source": [
    "seq = np.array([[4,5,6],[6,7,8],[9,10,11]])\n",
    "print(seq)\n",
    "print(np.ptp(seq))"
   ]
  },
  {
   "cell_type": "code",
   "execution_count": 46,
   "id": "ee5e5569",
   "metadata": {},
   "outputs": [],
   "source": [
    "seq = np.array([[4,5,6,7],[6,7,8,4],[9,10,11,2]])"
   ]
  },
  {
   "cell_type": "code",
   "execution_count": 47,
   "id": "480eebdf",
   "metadata": {},
   "outputs": [
    {
     "name": "stdout",
     "output_type": "stream",
     "text": [
      "[[ 4  5  6  7]\n",
      " [ 6  7  8  4]\n",
      " [ 9 10 11  2]]\n"
     ]
    }
   ],
   "source": [
    "print(seq)"
   ]
  },
  {
   "cell_type": "code",
   "execution_count": 48,
   "id": "19245562",
   "metadata": {},
   "outputs": [
    {
     "name": "stdout",
     "output_type": "stream",
     "text": [
      "9\n"
     ]
    }
   ],
   "source": [
    "print(np.ptp(seq))"
   ]
  },
  {
   "cell_type": "code",
   "execution_count": 49,
   "id": "58764c62",
   "metadata": {},
   "outputs": [
    {
     "name": "stdout",
     "output_type": "stream",
     "text": [
      "[5 5 5 5]\n"
     ]
    }
   ],
   "source": [
    "\n",
    "print(np.ptp(seq,axis = 0))"
   ]
  },
  {
   "cell_type": "code",
   "execution_count": 50,
   "id": "3238d563",
   "metadata": {
    "scrolled": true
   },
   "outputs": [
    {
     "name": "stdout",
     "output_type": "stream",
     "text": [
      "[3 4 9]\n"
     ]
    }
   ],
   "source": [
    "print(np.ptp(seq,axis = 1))"
   ]
  },
  {
   "cell_type": "markdown",
   "id": "fa11e06d",
   "metadata": {},
   "source": [
    "# median() function"
   ]
  },
  {
   "cell_type": "markdown",
   "id": "023528f6",
   "metadata": {},
   "source": [
    "syntax = np.median(array,axis = None, out, dtype)"
   ]
  },
  {
   "cell_type": "markdown",
   "id": "51bbc97e",
   "metadata": {},
   "source": [
    "it is used to calculate the median along any specified axis, \n",
    "the median returns the median of the array element "
   ]
  },
  {
   "cell_type": "code",
   "execution_count": 51,
   "id": "9b8eb67d",
   "metadata": {},
   "outputs": [
    {
     "name": "stdout",
     "output_type": "stream",
     "text": [
      "45.0\n"
     ]
    }
   ],
   "source": [
    "tell = [10,52,73,24,45]\n",
    "print(np.median(tell))"
   ]
  },
  {
   "cell_type": "code",
   "execution_count": 52,
   "id": "71f5200e",
   "metadata": {},
   "outputs": [
    {
     "name": "stdout",
     "output_type": "stream",
     "text": [
      "35.0\n"
     ]
    }
   ],
   "source": [
    "dell = np.array([[10,25,35],[5,40,50],[20,55,60]])\n",
    "print(np.median(dell))"
   ]
  },
  {
   "cell_type": "code",
   "execution_count": 53,
   "id": "6852da86",
   "metadata": {
    "scrolled": true
   },
   "outputs": [
    {
     "name": "stdout",
     "output_type": "stream",
     "text": [
      "[[10 25 35]\n",
      " [ 5 40 50]\n",
      " [20 55 60]]\n"
     ]
    }
   ],
   "source": [
    "print(dell)"
   ]
  },
  {
   "cell_type": "code",
   "execution_count": 64,
   "id": "8e4fc542",
   "metadata": {},
   "outputs": [
    {
     "name": "stdout",
     "output_type": "stream",
     "text": [
      "[10. 40. 50.]\n",
      "[25. 40. 55.]\n"
     ]
    }
   ],
   "source": [
    "print(np.median(dell,axis = 0))\n",
    "print(np.median(dell,axis = 1))"
   ]
  },
  {
   "cell_type": "markdown",
   "id": "fa14bda9",
   "metadata": {},
   "source": [
    "# mean() function"
   ]
  },
  {
   "cell_type": "markdown",
   "id": "434f2656",
   "metadata": {},
   "source": [
    "syntax = np.median(array,axis = None, out, dtype)"
   ]
  },
  {
   "cell_type": "code",
   "execution_count": 55,
   "id": "b4a308ac",
   "metadata": {},
   "outputs": [
    {
     "name": "stdout",
     "output_type": "stream",
     "text": [
      "3.5\n"
     ]
    }
   ],
   "source": [
    "tt = np.array([2,3,4,5])\n",
    "print(np.mean(tt))"
   ]
  },
  {
   "cell_type": "code",
   "execution_count": 56,
   "id": "965c3753",
   "metadata": {},
   "outputs": [
    {
     "name": "stdout",
     "output_type": "stream",
     "text": [
      "5.333333333333333\n"
     ]
    }
   ],
   "source": [
    "ss = np.array([[4,3,2],[6,7,8],[1,9,8]])\n",
    "print(np.mean(ss))"
   ]
  },
  {
   "cell_type": "code",
   "execution_count": 57,
   "id": "3da2d1ab",
   "metadata": {},
   "outputs": [
    {
     "name": "stdout",
     "output_type": "stream",
     "text": [
      "[[4 3 2]\n",
      " [6 7 8]\n",
      " [1 9 8]]\n"
     ]
    }
   ],
   "source": [
    "print(ss)"
   ]
  },
  {
   "cell_type": "code",
   "execution_count": 58,
   "id": "21cf9617",
   "metadata": {},
   "outputs": [
    {
     "name": "stdout",
     "output_type": "stream",
     "text": [
      "[3.66666667 6.33333333 6.        ]\n",
      "[3. 7. 6.]\n"
     ]
    }
   ],
   "source": [
    "print(np.mean(ss,axis = 0))\n",
    "print(np.mean(ss,axis = 1))"
   ]
  },
  {
   "cell_type": "markdown",
   "id": "c72523ca",
   "metadata": {},
   "source": [
    "# std() function"
   ]
  },
  {
   "cell_type": "markdown",
   "id": "8fe668ed",
   "metadata": {},
   "source": [
    "syntax = np.median(array,axis = None, out, dtype)\n",
    "std stands for standard deviation"
   ]
  },
  {
   "cell_type": "code",
   "execution_count": 59,
   "id": "26e1d6bc",
   "metadata": {},
   "outputs": [
    {
     "name": "stdout",
     "output_type": "stream",
     "text": [
      "1.699673171197595\n"
     ]
    }
   ],
   "source": [
    "kk = np.array([1,4,5])\n",
    "print(np.std(kk))"
   ]
  },
  {
   "cell_type": "code",
   "execution_count": 60,
   "id": "09745084",
   "metadata": {},
   "outputs": [
    {
     "name": "stdout",
     "output_type": "stream",
     "text": [
      "11.902380714238083\n"
     ]
    }
   ],
   "source": [
    "pp = np.array([[5,10,15],[20,30,40]])\n",
    "print(np.std(pp))"
   ]
  },
  {
   "cell_type": "code",
   "execution_count": 61,
   "id": "7ef8a3ac",
   "metadata": {},
   "outputs": [
    {
     "name": "stdout",
     "output_type": "stream",
     "text": [
      "[[ 5 10 15]\n",
      " [20 30 40]]\n"
     ]
    }
   ],
   "source": [
    "print(pp)"
   ]
  },
  {
   "cell_type": "code",
   "execution_count": 65,
   "id": "04b60f2a",
   "metadata": {},
   "outputs": [
    {
     "name": "stdout",
     "output_type": "stream",
     "text": [
      "[ 7.5 10.  12.5]\n",
      "[4.0824829  8.16496581]\n"
     ]
    }
   ],
   "source": [
    "print(np.std(pp,axis = 0))\n",
    "print(np.std(pp,axis = 1))"
   ]
  },
  {
   "cell_type": "code",
   "execution_count": null,
   "id": "8ca30b98",
   "metadata": {},
   "outputs": [],
   "source": []
  }
 ],
 "metadata": {
  "kernelspec": {
   "display_name": "Python 3 (ipykernel)",
   "language": "python",
   "name": "python3"
  },
  "language_info": {
   "codemirror_mode": {
    "name": "ipython",
    "version": 3
   },
   "file_extension": ".py",
   "mimetype": "text/x-python",
   "name": "python",
   "nbconvert_exporter": "python",
   "pygments_lexer": "ipython3",
   "version": "3.11.5"
  }
 },
 "nbformat": 4,
 "nbformat_minor": 5
}
