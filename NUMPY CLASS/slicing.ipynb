{
 "cells": [
  {
   "cell_type": "markdown",
   "id": "8cd49f39",
   "metadata": {},
   "source": [
    "# numpy indexing and slicing"
   ]
  },
  {
   "cell_type": "code",
   "execution_count": 49,
   "id": "1607287a",
   "metadata": {},
   "outputs": [],
   "source": [
    "import numpy as np"
   ]
  },
  {
   "cell_type": "markdown",
   "id": "f8cccd75",
   "metadata": {},
   "source": [
    "There are 3 types of indexing\n",
    "1 field access(this is direct field access using the index of the value)\n",
    "2 basic slicing\n",
    "3 advanced slicing"
   ]
  },
  {
   "cell_type": "markdown",
   "id": "8f832694",
   "metadata": {},
   "source": [
    "# Field access"
   ]
  },
  {
   "cell_type": "code",
   "execution_count": 50,
   "id": "e8f73206",
   "metadata": {},
   "outputs": [
    {
     "name": "stdout",
     "output_type": "stream",
     "text": [
      "agric\n"
     ]
    }
   ],
   "source": [
    "courses = [\"maths\", \"agric\", \"computer\", \"health\"]\n",
    "print(courses[1])"
   ]
  },
  {
   "cell_type": "code",
   "execution_count": 51,
   "id": "2da0096d",
   "metadata": {},
   "outputs": [
    {
     "name": "stdout",
     "output_type": "stream",
     "text": [
      "[ 0  1  2  3  4  5  6  7  8  9 10 11 12 13 14 15]\n"
     ]
    }
   ],
   "source": [
    "num = np.arange(16)\n",
    "print(num)"
   ]
  },
  {
   "cell_type": "markdown",
   "id": "d1737706",
   "metadata": {},
   "source": [
    "# basic slicing"
   ]
  },
  {
   "cell_type": "code",
   "execution_count": 52,
   "id": "e40c0734",
   "metadata": {},
   "outputs": [
    {
     "name": "stdout",
     "output_type": "stream",
     "text": [
      "[ 2  4  6  8 10 12]\n"
     ]
    }
   ],
   "source": [
    "number = slice(2, 13, 2)\n",
    "# print(number)\n",
    "print(num[number])"
   ]
  },
  {
   "cell_type": "code",
   "execution_count": 53,
   "id": "f5a725e0",
   "metadata": {},
   "outputs": [
    {
     "name": "stdout",
     "output_type": "stream",
     "text": [
      "6\n"
     ]
    }
   ],
   "source": [
    "den = num[6]\n",
    "print(den)"
   ]
  },
  {
   "cell_type": "code",
   "execution_count": 54,
   "id": "37b8a978",
   "metadata": {},
   "outputs": [
    {
     "name": "stdout",
     "output_type": "stream",
     "text": [
      "[ 0  1  2  3  4  5  6  7  8  9 10 11 12 13 14 15 16 17 18 19]\n"
     ]
    }
   ],
   "source": [
    "fen = np.arange(20)\n",
    "print(fen)"
   ]
  },
  {
   "cell_type": "code",
   "execution_count": 55,
   "id": "99645ea5",
   "metadata": {},
   "outputs": [
    {
     "name": "stdout",
     "output_type": "stream",
     "text": [
      "[ 8  9 10 11 12 13 14 15 16 17 18]\n",
      "[ 9 10 11 12 13 14 15 16 17 18 19]\n",
      "[ 0  1  2  3  4  5  6  7  8  9 10]\n"
     ]
    }
   ],
   "source": [
    "print(fen[8:19])\n",
    "print(fen[9:])\n",
    "print(fen[:11])"
   ]
  },
  {
   "cell_type": "markdown",
   "id": "c774fcc9",
   "metadata": {},
   "source": [
    "# ellipsis(...) can be used for slicing"
   ]
  },
  {
   "cell_type": "code",
   "execution_count": 56,
   "id": "31e34fc0",
   "metadata": {},
   "outputs": [
    {
     "name": "stdout",
     "output_type": "stream",
     "text": [
      "[[1 2 3]\n",
      " [3 4 5]\n",
      " [6 7 8]]\n"
     ]
    }
   ],
   "source": [
    "nrr = np.array([[1,2,3], [3,4,5], [6,7,8]])\n",
    "# print(nrr.ndim)\n",
    "print(nrr)"
   ]
  },
  {
   "cell_type": "code",
   "execution_count": 57,
   "id": "37ff1012",
   "metadata": {},
   "outputs": [
    {
     "name": "stdout",
     "output_type": "stream",
     "text": [
      "[2 4 7]\n"
     ]
    }
   ],
   "source": [
    "print(nrr[..., 1])"
   ]
  },
  {
   "cell_type": "code",
   "execution_count": 73,
   "id": "666ed8f6",
   "metadata": {},
   "outputs": [
    {
     "name": "stdout",
     "output_type": "stream",
     "text": [
      "[6 7 8]\n"
     ]
    }
   ],
   "source": [
    "print(nrr[2,...])"
   ]
  },
  {
   "cell_type": "code",
   "execution_count": 59,
   "id": "a5329fad",
   "metadata": {},
   "outputs": [
    {
     "name": "stdout",
     "output_type": "stream",
     "text": [
      "[1 2 3]\n"
     ]
    }
   ],
   "source": [
    "print(nrr[0,...])"
   ]
  },
  {
   "cell_type": "code",
   "execution_count": 60,
   "id": "9abed527",
   "metadata": {},
   "outputs": [
    {
     "name": "stdout",
     "output_type": "stream",
     "text": [
      "[[2 3]\n",
      " [4 5]\n",
      " [7 8]]\n"
     ]
    }
   ],
   "source": [
    "print(nrr[..., 1:]) # slicing all items from column 1 upwards"
   ]
  },
  {
   "cell_type": "markdown",
   "id": "7e71160f",
   "metadata": {},
   "source": [
    "# Advanced indexing(slicing)"
   ]
  },
  {
   "cell_type": "code",
   "execution_count": 61,
   "id": "6d02490a",
   "metadata": {},
   "outputs": [
    {
     "name": "stdout",
     "output_type": "stream",
     "text": [
      "[[1 2]\n",
      " [3 4]\n",
      " [5 6]\n",
      " [7 8]]\n"
     ]
    }
   ],
   "source": [
    "arr = np.array([[1,2], [3,4], [5,6], [7,8]])\n",
    "print(arr)"
   ]
  },
  {
   "cell_type": "code",
   "execution_count": 62,
   "id": "a76c65fc",
   "metadata": {},
   "outputs": [
    {
     "name": "stdout",
     "output_type": "stream",
     "text": [
      "[1 3 6 7]\n"
     ]
    }
   ],
   "source": [
    "set = arr[[0, 1, 2, 3], [0,0,1,0]]\n",
    "print(set)"
   ]
  },
  {
   "cell_type": "code",
   "execution_count": 63,
   "id": "630d1b6d",
   "metadata": {},
   "outputs": [
    {
     "name": "stdout",
     "output_type": "stream",
     "text": [
      "[[1]\n",
      " [2]\n",
      " [3]]\n",
      "[[2 3]\n",
      " [4 6]\n",
      " [8 9]]\n"
     ]
    }
   ],
   "source": [
    "n1 = np.array([[1], [2], [3]])\n",
    "n2 = np.array([[2,3], [4,6], [8,9]])\n",
    "print(n1)\n",
    "print(n2)"
   ]
  },
  {
   "cell_type": "code",
   "execution_count": 64,
   "id": "024b6211",
   "metadata": {},
   "outputs": [],
   "source": [
    "# n3 = arr[n1][n2]\n",
    "# print(n3)"
   ]
  },
  {
   "cell_type": "markdown",
   "id": "8575a2bf",
   "metadata": {},
   "source": [
    "# Boolean indexing"
   ]
  },
  {
   "cell_type": "markdown",
   "id": "a2c47f00",
   "metadata": {},
   "source": [
    "it is a kind of advanced indexing that is used when we want to pick element from ndarray based on some conditions using comparison operators or some other operators"
   ]
  },
  {
   "cell_type": "code",
   "execution_count": 65,
   "id": "19473141",
   "metadata": {},
   "outputs": [
    {
     "name": "stdout",
     "output_type": "stream",
     "text": [
      "[[ 2  3  4 15]\n",
      " [ 5  6  7  8]\n",
      " [ 8  9 10  9]]\n"
     ]
    }
   ],
   "source": [
    "net = np.array([[2,3,4,15], [5,6,7,8], [8,9,10,9]])\n",
    "print(net)"
   ]
  },
  {
   "cell_type": "code",
   "execution_count": 66,
   "id": "321c1387",
   "metadata": {},
   "outputs": [
    {
     "name": "stdout",
     "output_type": "stream",
     "text": [
      "[15  6  7  8  8  9 10  9]\n"
     ]
    }
   ],
   "source": [
    "some = net[net>=6]\n",
    "print(some)"
   ]
  },
  {
   "cell_type": "markdown",
   "id": "b90f7c98",
   "metadata": {},
   "source": [
    "# How to remove not a number"
   ]
  },
  {
   "cell_type": "code",
   "execution_count": 67,
   "id": "4d8aafeb",
   "metadata": {},
   "outputs": [
    {
     "data": {
      "text/plain": [
       "array([nan, nan])"
      ]
     },
     "execution_count": 67,
     "metadata": {},
     "output_type": "execute_result"
    }
   ],
   "source": [
    "one = np.array([5,np.nan,3,np.nan,4,7,8])\n",
    "one[np.isnan(one)]\n",
    "# one[np.isnumber(one)]"
   ]
  },
  {
   "cell_type": "markdown",
   "id": "68699ade",
   "metadata": {},
   "source": [
    "# How to remove complex numbers"
   ]
  },
  {
   "cell_type": "code",
   "execution_count": 68,
   "id": "bf97c51e",
   "metadata": {},
   "outputs": [
    {
     "data": {
      "text/plain": [
       "array([2. +6.j, 3.5+7.j, 0. +3.j])"
      ]
     },
     "execution_count": 68,
     "metadata": {},
     "output_type": "execute_result"
    }
   ],
   "source": [
    "ray = np.array([1,2+6j,7,3.5+7j,3j])\n",
    "ray[np.iscomplex(ray)]"
   ]
  },
  {
   "cell_type": "markdown",
   "id": "75a1ae92",
   "metadata": {},
   "source": [
    "# Broadcasting\n",
    "this refers to how numpy handles arrays of differnt dimensions while performing any arithmetical operations. in broadcasting, numpy generally broadcast the small array across the large array in other to have a compactible shape"
   ]
  },
  {
   "cell_type": "code",
   "execution_count": 69,
   "id": "08ca5185",
   "metadata": {},
   "outputs": [],
   "source": [
    "one = np.array([1,2,3,4,5])\n",
    "two = np.array([6,7,8,9,10])"
   ]
  },
  {
   "cell_type": "code",
   "execution_count": 70,
   "id": "d1045746",
   "metadata": {},
   "outputs": [
    {
     "name": "stdout",
     "output_type": "stream",
     "text": [
      "[ 7  9 11 13 15]\n"
     ]
    }
   ],
   "source": [
    "three = one + two\n",
    "print(three)"
   ]
  },
  {
   "cell_type": "markdown",
   "id": "50a8241f",
   "metadata": {},
   "source": [
    "Rules for broadcasting numpy\n",
    "1 the size of each output dim should be the maximum of the input size in dim\n",
    "2 the smaller dim ndarray can be appended with value 1 in each shape\n",
    "3 if the input size is one then the ist data entry should be used for the calculation along the dim"
   ]
  },
  {
   "cell_type": "code",
   "execution_count": 71,
   "id": "0b89a7b8",
   "metadata": {},
   "outputs": [],
   "source": [
    "jen = np.array([[1,2,3,4], [5,6,7,8], [9,10,11,12]])\n",
    "ben = np.array([7,8,9,10])"
   ]
  },
  {
   "cell_type": "code",
   "execution_count": 72,
   "id": "11c52f26",
   "metadata": {},
   "outputs": [
    {
     "name": "stdout",
     "output_type": "stream",
     "text": [
      "[[ 8 10 12 14]\n",
      " [12 14 16 18]\n",
      " [16 18 20 22]]\n"
     ]
    }
   ],
   "source": [
    "den = jen + ben\n",
    "print(den)"
   ]
  },
  {
   "cell_type": "code",
   "execution_count": null,
   "id": "e810a24d",
   "metadata": {},
   "outputs": [],
   "source": []
  }
 ],
 "metadata": {
  "kernelspec": {
   "display_name": "Python 3 (ipykernel)",
   "language": "python",
   "name": "python3"
  },
  "language_info": {
   "codemirror_mode": {
    "name": "ipython",
    "version": 3
   },
   "file_extension": ".py",
   "mimetype": "text/x-python",
   "name": "python",
   "nbconvert_exporter": "python",
   "pygments_lexer": "ipython3",
   "version": "3.11.5"
  }
 },
 "nbformat": 4,
 "nbformat_minor": 5
}
