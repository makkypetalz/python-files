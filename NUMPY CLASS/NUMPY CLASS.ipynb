{
 "cells": [
  {
   "cell_type": "code",
   "execution_count": 2,
   "id": "460f9d82",
   "metadata": {},
   "outputs": [
    {
     "name": "stdout",
     "output_type": "stream",
     "text": [
      "[ 0  1  4  9 16 25 36 49 64 81]\n"
     ]
    }
   ],
   "source": [
    "import numpy as np\n",
    "array = np.arange(10)\n",
    "squared_array = array ** 2\n",
    "print(squared_array)\n"
   ]
  },
  {
   "cell_type": "code",
   "execution_count": 6,
   "id": "3a242cd5",
   "metadata": {},
   "outputs": [
    {
     "data": {
      "text/plain": [
       "(1, 6)"
      ]
     },
     "execution_count": 6,
     "metadata": {},
     "output_type": "execute_result"
    }
   ],
   "source": [
    "import numpy as np\n",
    "a = np.arange(start=0, stop=6, step=1)\n",
    "a2 = a[np.newaxis, :]\n",
    "a2.shape\n",
    "(1, 6)"
   ]
  },
  {
   "cell_type": "code",
   "execution_count": 8,
   "id": "b78c9941",
   "metadata": {},
   "outputs": [
    {
     "name": "stdout",
     "output_type": "stream",
     "text": [
      "[ 0  1  4  9 16 25 36 49 64 81]\n"
     ]
    }
   ],
   "source": [
    "import numpy as np\n",
    "makky = np.arange(10)\n",
    "squared_makky = makky ** 2\n",
    "print(squared_makky)"
   ]
  },
  {
   "cell_type": "code",
   "execution_count": 9,
   "id": "1557ae7b",
   "metadata": {},
   "outputs": [],
   "source": [
    "# creating array object"
   ]
  },
  {
   "cell_type": "code",
   "execution_count": 61,
   "id": "9c9f170c",
   "metadata": {},
   "outputs": [],
   "source": [
    "arr = np.array([[1,2,3,6],[4,2,5,4]])"
   ]
  },
  {
   "cell_type": "code",
   "execution_count": 56,
   "id": "50f21256",
   "metadata": {},
   "outputs": [],
   "source": [
    "# printing type of arr object"
   ]
  },
  {
   "cell_type": "code",
   "execution_count": 57,
   "id": "8bfb880e",
   "metadata": {},
   "outputs": [
    {
     "name": "stdout",
     "output_type": "stream",
     "text": [
      "Array is of type:  <class 'numpy.ndarray'>\n"
     ]
    }
   ],
   "source": [
    "print(\"Array is of type: \", type(arr))"
   ]
  },
  {
   "cell_type": "code",
   "execution_count": 58,
   "id": "0ffc6785",
   "metadata": {},
   "outputs": [
    {
     "data": {
      "text/plain": [
       "numpy.ndarray"
      ]
     },
     "execution_count": 58,
     "metadata": {},
     "output_type": "execute_result"
    }
   ],
   "source": [
    "type(arr)"
   ]
  },
  {
   "cell_type": "code",
   "execution_count": 59,
   "id": "3adbfb3a",
   "metadata": {},
   "outputs": [],
   "source": [
    "# printing array dimensions (axes)"
   ]
  },
  {
   "cell_type": "code",
   "execution_count": 60,
   "id": "42ab870f",
   "metadata": {},
   "outputs": [
    {
     "name": "stdout",
     "output_type": "stream",
     "text": [
      "No. of dimensions:  2\n"
     ]
    }
   ],
   "source": [
    "print(\"No. of dimensions: \", arr.ndim)"
   ]
  },
  {
   "cell_type": "code",
   "execution_count": 18,
   "id": "9f1a92b1",
   "metadata": {},
   "outputs": [],
   "source": [
    "# printing shape of array"
   ]
  },
  {
   "cell_type": "code",
   "execution_count": 62,
   "id": "5c8feb50",
   "metadata": {},
   "outputs": [
    {
     "name": "stdout",
     "output_type": "stream",
     "text": [
      "shape of array:  (2, 4)\n"
     ]
    }
   ],
   "source": [
    "print(\"shape of array: \", arr.shape)"
   ]
  },
  {
   "cell_type": "code",
   "execution_count": 21,
   "id": "1a6a82a2",
   "metadata": {},
   "outputs": [],
   "source": [
    "# printing size (total number of elements) of array"
   ]
  },
  {
   "cell_type": "code",
   "execution_count": 63,
   "id": "4c3c4283",
   "metadata": {},
   "outputs": [
    {
     "name": "stdout",
     "output_type": "stream",
     "text": [
      "size of array:  8\n"
     ]
    }
   ],
   "source": [
    "print(\"size of array: \", arr.size)"
   ]
  },
  {
   "cell_type": "code",
   "execution_count": 24,
   "id": "c235cb43",
   "metadata": {},
   "outputs": [],
   "source": [
    "# printing type of elements in array"
   ]
  },
  {
   "cell_type": "code",
   "execution_count": 27,
   "id": "2b4f2551",
   "metadata": {},
   "outputs": [
    {
     "name": "stdout",
     "output_type": "stream",
     "text": [
      "Array stores elements of type:  int32\n"
     ]
    }
   ],
   "source": [
    "print(\"Array stores elements of type: \", arr.dtype)"
   ]
  },
  {
   "cell_type": "markdown",
   "id": "79196c36",
   "metadata": {},
   "source": [
    "# NUMPY ARRAY CREATION"
   ]
  },
  {
   "cell_type": "markdown",
   "id": "acf734ed",
   "metadata": {},
   "source": [
    "There are various ways of numpy array creation in python. they are as follows:\n",
    "1. you can create an array from a regular python list or tuple using the array() function.\n",
    "the type of the resulting array is deduced from the type of the elements in the sequence. lets see this implementation:"
   ]
  },
  {
   "cell_type": "code",
   "execution_count": 28,
   "id": "a616953d",
   "metadata": {},
   "outputs": [],
   "source": [
    "# creating array from list with type float"
   ]
  },
  {
   "cell_type": "code",
   "execution_count": 30,
   "id": "7bc1b9de",
   "metadata": {},
   "outputs": [
    {
     "name": "stdout",
     "output_type": "stream",
     "text": [
      "Array created using passed list:\n",
      " [[1. 2. 4.]\n",
      " [5. 8. 7.]]\n"
     ]
    }
   ],
   "source": [
    "a = np.array([[1,2,4], [5,8,7]], dtype = 'float')\n",
    "print(\"Array created using passed list:\\n\", a)"
   ]
  },
  {
   "cell_type": "code",
   "execution_count": 31,
   "id": "e78eef38",
   "metadata": {},
   "outputs": [],
   "source": [
    "# creating array from tuple"
   ]
  },
  {
   "cell_type": "code",
   "execution_count": 33,
   "id": "79882d93",
   "metadata": {},
   "outputs": [
    {
     "name": "stdout",
     "output_type": "stream",
     "text": [
      "\n",
      "Array created using passed tuple:\n",
      " [1 3 2]\n"
     ]
    }
   ],
   "source": [
    "b = np.array((1,3,2))\n",
    "print(\"\\nArray created using passed tuple:\\n\", b)"
   ]
  },
  {
   "cell_type": "markdown",
   "id": "442ca6d2",
   "metadata": {},
   "source": [
    "2. often, the elements is of an array is originally unknown, but its size is known. Hence, numpy offers several functions to create arrays with initial placeholder content. these minimize the necessity of growing arrays, an expensive operation. for example: np.zeros, np.ones, np.full, np.empty, etc.\n",
    "To create sequence of numbers, numpy provides a function anologues to the range that returns arrays instead of lists"
   ]
  },
  {
   "cell_type": "code",
   "execution_count": 34,
   "id": "d61089cb",
   "metadata": {},
   "outputs": [],
   "source": [
    "# creating a 3x4 array with all zeros"
   ]
  },
  {
   "cell_type": "code",
   "execution_count": 36,
   "id": "e97fa3bb",
   "metadata": {},
   "outputs": [
    {
     "name": "stdout",
     "output_type": "stream",
     "text": [
      "An array initialized with all zeros:\n",
      " [[0. 0. 0. 0.]\n",
      " [0. 0. 0. 0.]\n",
      " [0. 0. 0. 0.]]\n"
     ]
    }
   ],
   "source": [
    "c = np.zeros((3,4))\n",
    "print(\"An array initialized with all zeros:\\n\", c)"
   ]
  },
  {
   "cell_type": "code",
   "execution_count": 37,
   "id": "586d3ade",
   "metadata": {},
   "outputs": [],
   "source": [
    "# create a constant value array of complex type"
   ]
  },
  {
   "cell_type": "code",
   "execution_count": 68,
   "id": "3940981e",
   "metadata": {},
   "outputs": [
    {
     "name": "stdout",
     "output_type": "stream",
     "text": [
      "An array initialized with all 6s.Array type is coplex:\n",
      " [[6.+0.j 6.+0.j 6.+0.j]\n",
      " [6.+0.j 6.+0.j 6.+0.j]\n",
      " [6.+0.j 6.+0.j 6.+0.j]]\n"
     ]
    }
   ],
   "source": [
    "d = np.full((3,3), 6, dtype = 'complex')\n",
    "print(\"An array initialized with all 6s.\"\n",
    "     \"Array type is complex:\\n\", d)"
   ]
  },
  {
   "cell_type": "code",
   "execution_count": 67,
   "id": "7130555a",
   "metadata": {},
   "outputs": [],
   "source": [
    "# create an array with random values"
   ]
  },
  {
   "cell_type": "code",
   "execution_count": 71,
   "id": "08eacc6e",
   "metadata": {},
   "outputs": [
    {
     "name": "stdout",
     "output_type": "stream",
     "text": [
      "A random array:\n",
      " [[0.09709104 0.83574111]\n",
      " [0.38465539 0.19235726]]\n"
     ]
    }
   ],
   "source": [
    "e = np.random.random((2,2))\n",
    "print(\"A random array:\\n\", e)"
   ]
  },
  {
   "cell_type": "markdown",
   "id": "8dc39312",
   "metadata": {},
   "source": [
    "3. arange: This function returns evenly spaced values within a given interval. step size is specified."
   ]
  },
  {
   "cell_type": "code",
   "execution_count": 43,
   "id": "13e5acc4",
   "metadata": {},
   "outputs": [],
   "source": [
    "# create a sequence of integers\n",
    "# from 0 to 30 with steps of 5"
   ]
  },
  {
   "cell_type": "code",
   "execution_count": 45,
   "id": "ddec615b",
   "metadata": {},
   "outputs": [
    {
     "name": "stdout",
     "output_type": "stream",
     "text": [
      "A sequential array with steps of 5:\n",
      " [ 0  5 10 15 20 25]\n"
     ]
    }
   ],
   "source": [
    "f = np.arange(0, 30, 5)\n",
    "print(\"A sequential array with steps of 5:\\n\", f)"
   ]
  },
  {
   "cell_type": "markdown",
   "id": "b02a1562",
   "metadata": {},
   "source": [
    "4. linspace: It returns evenly spaced values within a given interval."
   ]
  },
  {
   "cell_type": "code",
   "execution_count": 47,
   "id": "1017b64c",
   "metadata": {},
   "outputs": [],
   "source": [
    "# create a sequence of 10 values in range 0 to 5"
   ]
  },
  {
   "cell_type": "code",
   "execution_count": 72,
   "id": "d2177453",
   "metadata": {},
   "outputs": [
    {
     "name": "stdout",
     "output_type": "stream",
     "text": [
      "A sequential array with 10 values between0 and 5:\n",
      "\n",
      "[ 0.          0.78947368  1.57894737  2.36842105  3.15789474  3.94736842\n",
      "  4.73684211  5.52631579  6.31578947  7.10526316  7.89473684  8.68421053\n",
      "  9.47368421 10.26315789 11.05263158 11.84210526 12.63157895 13.42105263\n",
      " 14.21052632 15.        ]\n"
     ]
    }
   ],
   "source": [
    "g = np.linspace(0, 15, 20)\n",
    "print(\"A sequential array with 10 values between\"\n",
    "     \"0 and 5:\\n\",)\n",
    "print(g)"
   ]
  },
  {
   "cell_type": "code",
   "execution_count": null,
   "id": "7d79e54a",
   "metadata": {},
   "outputs": [],
   "source": []
  }
 ],
 "metadata": {
  "kernelspec": {
   "display_name": "Python 3 (ipykernel)",
   "language": "python",
   "name": "python3"
  },
  "language_info": {
   "codemirror_mode": {
    "name": "ipython",
    "version": 3
   },
   "file_extension": ".py",
   "mimetype": "text/x-python",
   "name": "python",
   "nbconvert_exporter": "python",
   "pygments_lexer": "ipython3",
   "version": "3.11.5"
  }
 },
 "nbformat": 4,
 "nbformat_minor": 5
}
