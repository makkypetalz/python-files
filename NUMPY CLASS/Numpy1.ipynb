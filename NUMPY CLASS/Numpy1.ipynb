{
 "cells": [
  {
   "cell_type": "markdown",
   "id": "0f9bd5bf",
   "metadata": {},
   "source": [
    "# Data types in numpy"
   ]
  },
  {
   "cell_type": "markdown",
   "id": "9db27f96",
   "metadata": {},
   "source": [
    "i = int\n",
    "f = float\n",
    "b = boolean\n",
    "u = unsigned integer\n",
    "c = complex float\n",
    "m = timedelta\n",
    "M = datetime\n",
    "O = object\n",
    "S = string\n",
    "U = unicode\n",
    "V = void\n"
   ]
  },
  {
   "cell_type": "code",
   "execution_count": 2,
   "id": "5053ea68",
   "metadata": {},
   "outputs": [],
   "source": [
    "import numpy as np"
   ]
  },
  {
   "cell_type": "code",
   "execution_count": 3,
   "id": "b0bc2289",
   "metadata": {},
   "outputs": [
    {
     "name": "stdout",
     "output_type": "stream",
     "text": [
      "<U6\n"
     ]
    }
   ],
   "source": [
    "\n",
    "arr = np.array([\"python\", \"django\", \"numpy\", \"java\", \"html\", \"css\"])\n",
    "print(arr.dtype)"
   ]
  },
  {
   "cell_type": "code",
   "execution_count": 4,
   "id": "6861506a",
   "metadata": {},
   "outputs": [
    {
     "name": "stdout",
     "output_type": "stream",
     "text": [
      "int64\n",
      "int32\n"
     ]
    }
   ],
   "source": [
    "name = np.dtype(np.int64)\n",
    "print(name)\n",
    "red = np.array([5,6,7])\n",
    "print(red.dtype)"
   ]
  },
  {
   "cell_type": "code",
   "execution_count": 5,
   "id": "59f1aa21",
   "metadata": {},
   "outputs": [
    {
     "name": "stdout",
     "output_type": "stream",
     "text": [
      "float64\n"
     ]
    }
   ],
   "source": [
    "blue = np.array([5.3,8.9,7.6])\n",
    "print(blue.dtype)"
   ]
  },
  {
   "cell_type": "code",
   "execution_count": 6,
   "id": "d8b300f1",
   "metadata": {},
   "outputs": [
    {
     "name": "stdout",
     "output_type": "stream",
     "text": [
      "int32\n"
     ]
    }
   ],
   "source": [
    "orange = np.dtype(\"i4\")\n",
    "print(orange)"
   ]
  },
  {
   "cell_type": "code",
   "execution_count": 7,
   "id": "31dc3b0d",
   "metadata": {},
   "outputs": [
    {
     "name": "stdout",
     "output_type": "stream",
     "text": [
      "[('fruits', '<i8')]\n"
     ]
    }
   ],
   "source": [
    "mean = np.dtype([(\"fruits\",np.int64 )])\n",
    "print(mean)"
   ]
  },
  {
   "cell_type": "code",
   "execution_count": 8,
   "id": "cf458c7e",
   "metadata": {},
   "outputs": [
    {
     "data": {
      "text/plain": [
       "dtype([('fruits', '<i8')])"
      ]
     },
     "execution_count": 8,
     "metadata": {},
     "output_type": "execute_result"
    }
   ],
   "source": [
    "mean"
   ]
  },
  {
   "cell_type": "markdown",
   "id": "81d8bfa7",
   "metadata": {},
   "source": [
    "# How to change the data type"
   ]
  },
  {
   "cell_type": "code",
   "execution_count": 9,
   "id": "f09464a6",
   "metadata": {},
   "outputs": [
    {
     "name": "stdout",
     "output_type": "stream",
     "text": [
      "float64\n"
     ]
    }
   ],
   "source": [
    "car = np.array([1.1, 1.5, 2.2, 6.7])\n",
    "print(car.dtype)"
   ]
  },
  {
   "cell_type": "code",
   "execution_count": 10,
   "id": "5cc8d540",
   "metadata": {},
   "outputs": [
    {
     "name": "stdout",
     "output_type": "stream",
     "text": [
      "int32\n"
     ]
    }
   ],
   "source": [
    "moon = car.astype(int)\n",
    "print(moon.dtype)"
   ]
  },
  {
   "cell_type": "code",
   "execution_count": 11,
   "id": "17a90d11",
   "metadata": {},
   "outputs": [
    {
     "name": "stdout",
     "output_type": "stream",
     "text": [
      "[1 1 2 6]\n"
     ]
    }
   ],
   "source": [
    "print(moon)"
   ]
  },
  {
   "cell_type": "markdown",
   "id": "4cabd65d",
   "metadata": {},
   "source": [
    "# Creating empty array"
   ]
  },
  {
   "cell_type": "code",
   "execution_count": 12,
   "id": "7841c152",
   "metadata": {},
   "outputs": [
    {
     "name": "stdout",
     "output_type": "stream",
     "text": [
      "[[7.79293458e-312 7.79255178e-312 4.27255707e+180 6.96771801e+252\n",
      "  7.08468655e+159 8.12555790e-096 1.12958007e+277 9.60674952e-037]\n",
      " [7.01413727e-009 6.97387871e+228 7.47011456e-114 5.95750259e+271\n",
      "  5.95915351e+271 5.43256360e-096 1.06259729e+223 1.14489505e-095]\n",
      " [7.16006779e-062 9.13544126e+242 1.05135744e-153 2.00007403e+174\n",
      "  7.36191050e+223 1.05164869e-153 8.95402175e-096 6.82996787e-307]\n",
      " [7.79295370e-312 7.79271812e-312 4.56340406e-072 6.82997463e-307\n",
      "  7.79293265e-312 7.79257220e-312 7.49744161e+247 1.05161990e-153]\n",
      " [7.13637443e+159 1.35717430e+131 8.65810414e+140 6.01347002e-154\n",
      "  6.96320207e-077 6.01347002e-154 6.03104724e-154 7.04134408e-009]\n",
      " [6.21834938e+175 5.22936920e-067 4.83245960e+276 6.03104753e-154\n",
      "  6.01346953e-154 1.05133138e-153 6.01334510e-154 8.01802173e-096]]\n"
     ]
    }
   ],
   "source": [
    "done = np.empty([6,8], dtype=float)\n",
    "print(done)"
   ]
  },
  {
   "cell_type": "markdown",
   "id": "711489ac",
   "metadata": {},
   "source": [
    "# To check zeros"
   ]
  },
  {
   "cell_type": "code",
   "execution_count": 13,
   "id": "e4e57de0",
   "metadata": {},
   "outputs": [
    {
     "name": "stdout",
     "output_type": "stream",
     "text": [
      "[[0. 0. 0. 0. 0.]\n",
      " [0. 0. 0. 0. 0.]\n",
      " [0. 0. 0. 0. 0.]\n",
      " [0. 0. 0. 0. 0.]\n",
      " [0. 0. 0. 0. 0.]\n",
      " [0. 0. 0. 0. 0.]\n",
      " [0. 0. 0. 0. 0.]\n",
      " [0. 0. 0. 0. 0.]\n",
      " [0. 0. 0. 0. 0.]\n",
      " [0. 0. 0. 0. 0.]]\n"
     ]
    }
   ],
   "source": [
    "good = np.zeros([10,5], dtype = float)\n",
    "print(good)"
   ]
  },
  {
   "cell_type": "code",
   "execution_count": 14,
   "id": "25e7c325",
   "metadata": {},
   "outputs": [
    {
     "name": "stdout",
     "output_type": "stream",
     "text": [
      "[['1' '1' '1' '1' '1' '1' '1' '1' '1' '1']\n",
      " ['1' '1' '1' '1' '1' '1' '1' '1' '1' '1']\n",
      " ['1' '1' '1' '1' '1' '1' '1' '1' '1' '1']\n",
      " ['1' '1' '1' '1' '1' '1' '1' '1' '1' '1']\n",
      " ['1' '1' '1' '1' '1' '1' '1' '1' '1' '1']]\n"
     ]
    }
   ],
   "source": [
    "bad = np.ones((5,10), dtype = str)\n",
    "print(bad)"
   ]
  },
  {
   "cell_type": "markdown",
   "id": "06e85793",
   "metadata": {},
   "source": [
    "# Creating array using existing data"
   ]
  },
  {
   "cell_type": "code",
   "execution_count": 15,
   "id": "732c44b9",
   "metadata": {},
   "outputs": [
    {
     "name": "stdout",
     "output_type": "stream",
     "text": [
      "[20 40 50 60]\n",
      "<class 'numpy.ndarray'>\n"
     ]
    }
   ],
   "source": [
    "undo = (20,40,50,60)\n",
    "you = np.asarray(undo)\n",
    "print(you)\n",
    "print(type(you))"
   ]
  },
  {
   "cell_type": "markdown",
   "id": "a5a8e280",
   "metadata": {},
   "source": [
    "# 2 dimensional array"
   ]
  },
  {
   "cell_type": "code",
   "execution_count": 16,
   "id": "c2b2fe16",
   "metadata": {},
   "outputs": [
    {
     "name": "stdout",
     "output_type": "stream",
     "text": [
      "[[1 2 3]\n",
      " [4 5 6]]\n",
      "<class 'numpy.ndarray'>\n"
     ]
    }
   ],
   "source": [
    "source = [[1,2,3], [4,5,6]]\n",
    "son = np.asarray(source)\n",
    "print(son)\n",
    "print(type(son))"
   ]
  },
  {
   "cell_type": "markdown",
   "id": "c205667d",
   "metadata": {},
   "source": [
    "# Creating arrays with frombuffer"
   ]
  },
  {
   "cell_type": "code",
   "execution_count": 17,
   "id": "de2d0f36",
   "metadata": {},
   "outputs": [
    {
     "name": "stdout",
     "output_type": "stream",
     "text": [
      "<class 'bytes'>\n"
     ]
    }
   ],
   "source": [
    "house_man = b\"wearelearningnumpy\"\n",
    "print(type(house_man))"
   ]
  },
  {
   "cell_type": "code",
   "execution_count": 18,
   "id": "011f3451",
   "metadata": {},
   "outputs": [
    {
     "name": "stdout",
     "output_type": "stream",
     "text": [
      "[b'w' b'e' b'a' b'r' b'e' b'l' b'e' b'a' b'r' b'n' b'i' b'n' b'g' b'n'\n",
      " b'u' b'm' b'p' b'y']\n",
      "<class 'numpy.ndarray'>\n"
     ]
    }
   ],
   "source": [
    "new = np.frombuffer(house_man, dtype = \"S1\")\n",
    "print(new)\n",
    "print(type(new))"
   ]
  },
  {
   "cell_type": "markdown",
   "id": "b480e1a1",
   "metadata": {},
   "source": [
    "# Creating arrays with iterator"
   ]
  },
  {
   "cell_type": "code",
   "execution_count": 25,
   "id": "e4df31c4",
   "metadata": {},
   "outputs": [
    {
     "name": "stdout",
     "output_type": "stream",
     "text": [
      "<class 'tuple_iterator'>\n",
      "<tuple_iterator object at 0x0000016F40CA3550>\n",
      "[4. 6. 7. 8.]\n",
      "<class 'numpy.ndarray'>\n"
     ]
    }
   ],
   "source": [
    "iron = (4,6,7,8)\n",
    "shoes = iter(iron)\n",
    "print(type(shoes))\n",
    "print(shoes)\n",
    "bags = np.fromiter(shoes, dtype = float)\n",
    "print(bags)\n",
    "print(type(bags))\n",
    "\n"
   ]
  },
  {
   "cell_type": "markdown",
   "id": "98cc2ea8",
   "metadata": {},
   "source": [
    "# Array creation from numerical ranges"
   ]
  },
  {
   "cell_type": "code",
   "execution_count": 26,
   "id": "245fd368",
   "metadata": {},
   "outputs": [
    {
     "name": "stdout",
     "output_type": "stream",
     "text": [
      "[ 0  1  2  3  4  5  6  7  8  9 10 11 12 13 14 15 16 17 18 19]\n"
     ]
    }
   ],
   "source": [
    "sea = np.arange(20)\n",
    "print(sea)"
   ]
  },
  {
   "cell_type": "code",
   "execution_count": 34,
   "id": "e1ce1451",
   "metadata": {},
   "outputs": [
    {
     "name": "stdout",
     "output_type": "stream",
     "text": [
      "[ 0.+0.j  3.+0.j  6.+0.j  9.+0.j 12.+0.j]\n"
     ]
    }
   ],
   "source": [
    "new = np.arange(0, 15, 3, complex)\n",
    "print(new)\n"
   ]
  },
  {
   "cell_type": "markdown",
   "id": "6dc637be",
   "metadata": {},
   "source": [
    "# Array creation using linspace\n",
    "np.linspace(start, end, space)"
   ]
  },
  {
   "cell_type": "code",
   "execution_count": 37,
   "id": "801b86a8",
   "metadata": {},
   "outputs": [
    {
     "name": "stdout",
     "output_type": "stream",
     "text": [
      "[20. 25. 30. 35. 40.]\n"
     ]
    }
   ],
   "source": [
    "house = np.linspace(20, 40, 5)\n",
    "print(house)"
   ]
  },
  {
   "cell_type": "code",
   "execution_count": 44,
   "id": "463473f1",
   "metadata": {},
   "outputs": [
    {
     "name": "stdout",
     "output_type": "stream",
     "text": [
      "(array([ 5. , 12.5, 20. ]), 7.5)\n"
     ]
    }
   ],
   "source": [
    "hut = np.linspace(5, 20, 3, retstep = True)\n",
    "print(hut)\n"
   ]
  },
  {
   "cell_type": "markdown",
   "id": "d03db2d5",
   "metadata": {},
   "source": [
    "# Array creation using logspace"
   ]
  },
  {
   "cell_type": "code",
   "execution_count": 54,
   "id": "281696d0",
   "metadata": {},
   "outputs": [
    {
     "name": "stdout",
     "output_type": "stream",
     "text": [
      "[1.00000000e+03 2.15443469e+04 4.64158883e+05 1.00000000e+07\n",
      " 2.15443469e+08 4.64158883e+09 1.00000000e+11 2.15443469e+12\n",
      " 4.64158883e+13 1.00000000e+15]\n"
     ]
    }
   ],
   "source": [
    "wheb =np.logspace(3, 15, num = 10)\n",
    "print(wheb)"
   ]
  },
  {
   "cell_type": "code",
   "execution_count": 55,
   "id": "4127b557",
   "metadata": {},
   "outputs": [
    {
     "name": "stdout",
     "output_type": "stream",
     "text": [
      "[2.50000000e+01 1.56780285e+03 9.83202305e+04 6.16586949e+06\n",
      " 3.86674709e+08 2.42491884e+10 1.52071786e+12 9.53674316e+13]\n"
     ]
    }
   ],
   "source": [
    "wen = np.logspace(2, 20, num = 8, base = 5, endpoint = True)\n",
    "print(wen)"
   ]
  },
  {
   "cell_type": "code",
   "execution_count": null,
   "id": "7378496d",
   "metadata": {},
   "outputs": [],
   "source": []
  }
 ],
 "metadata": {
  "kernelspec": {
   "display_name": "Python 3 (ipykernel)",
   "language": "python",
   "name": "python3"
  },
  "language_info": {
   "codemirror_mode": {
    "name": "ipython",
    "version": 3
   },
   "file_extension": ".py",
   "mimetype": "text/x-python",
   "name": "python",
   "nbconvert_exporter": "python",
   "pygments_lexer": "ipython3",
   "version": "3.11.5"
  }
 },
 "nbformat": 4,
 "nbformat_minor": 5
}
