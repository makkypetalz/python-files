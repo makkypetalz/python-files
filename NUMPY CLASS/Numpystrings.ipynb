{
 "cells": [
  {
   "cell_type": "markdown",
   "id": "df26c3d9",
   "metadata": {},
   "source": [
    "# Strings"
   ]
  },
  {
   "cell_type": "code",
   "execution_count": 1,
   "id": "a1bab4e3",
   "metadata": {},
   "outputs": [],
   "source": [
    "import numpy as np"
   ]
  },
  {
   "cell_type": "code",
   "execution_count": 2,
   "id": "cacc50ae",
   "metadata": {},
   "outputs": [],
   "source": [
    "note = \"numpy is a course\"\n",
    "note = \"NUMPY IS A COURSE\""
   ]
  },
  {
   "cell_type": "markdown",
   "id": "8bf2c7ff",
   "metadata": {},
   "source": [
    "# To check if lower or upper"
   ]
  },
  {
   "cell_type": "markdown",
   "id": "a0c79581",
   "metadata": {},
   "source": [
    "(char) means character"
   ]
  },
  {
   "cell_type": "code",
   "execution_count": 3,
   "id": "960c9aeb",
   "metadata": {},
   "outputs": [
    {
     "name": "stdout",
     "output_type": "stream",
     "text": [
      "False\n"
     ]
    }
   ],
   "source": [
    "ten = np.char.islower(note)\n",
    "print(ten)"
   ]
  },
  {
   "cell_type": "code",
   "execution_count": 5,
   "id": "e1e29223",
   "metadata": {},
   "outputs": [
    {
     "name": "stdout",
     "output_type": "stream",
     "text": [
      "['a' 'b' 'c']\n"
     ]
    }
   ],
   "source": [
    "red =  np.array([\"a\", \"b\", \"c\"])\n",
    "print(red)"
   ]
  },
  {
   "cell_type": "code",
   "execution_count": 9,
   "id": "04d4aae3",
   "metadata": {},
   "outputs": [
    {
     "name": "stdout",
     "output_type": "stream",
     "text": [
      "[False False False]\n",
      "[ True  True  True]\n"
     ]
    }
   ],
   "source": [
    "jj = np.char.isupper(red)\n",
    "print(jj)\n",
    "mm = np.char.islower(red)\n",
    "print(mm)"
   ]
  },
  {
   "cell_type": "markdown",
   "id": "a11e5f92",
   "metadata": {},
   "source": [
    "# How to find substrings"
   ]
  },
  {
   "cell_type": "code",
   "execution_count": 21,
   "id": "40bed343",
   "metadata": {},
   "outputs": [
    {
     "name": "stdout",
     "output_type": "stream",
     "text": [
      "the array is:\n",
      "  ['AAAabbbbbxcccccyyysss', 'AAAAAAAaattttdsxxxxcccc', 'AAaaxxccxcxXDSDdscz', 'AAaaxxxxcccutt']\n",
      "the find of 'xc' [ 9 18  5  7]\n",
      "the find of 'xc' [ 9 18  5  7]\n",
      "the find of 'xc' [ 9 18  8 -1]\n"
     ]
    }
   ],
   "source": [
    "frr = [\"AAAabbbbbxcccccyyysss\", \"AAAAAAAaattttdsxxxxcccc\", \"AAaaxxccxcxXDSDdscz\", \"AAaaxxxxcccutt\"]\n",
    "print(\"the array is:\\n \", frr)\n",
    "print(\"the find of 'xc'\", np.char.find(frr, 'xc'))\n",
    "print(\"the find of 'xc'\", np.char.find(frr, 'xc', start = 3))\n",
    "print(\"the find of 'xc'\", np.char.find(frr, 'xc', start = 8))"
   ]
  }
 ],
 "metadata": {
  "kernelspec": {
   "display_name": "Python 3 (ipykernel)",
   "language": "python",
   "name": "python3"
  },
  "language_info": {
   "codemirror_mode": {
    "name": "ipython",
    "version": 3
   },
   "file_extension": ".py",
   "mimetype": "text/x-python",
   "name": "python",
   "nbconvert_exporter": "python",
   "pygments_lexer": "ipython3",
   "version": "3.11.5"
  }
 },
 "nbformat": 4,
 "nbformat_minor": 5
}
